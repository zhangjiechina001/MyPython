{
 "cells": [
  {
   "cell_type": "code",
   "execution_count": 9,
   "metadata": {},
   "outputs": [
    {
     "ename": "NameError",
     "evalue": "name 'x' is not defined",
     "output_type": "error",
     "traceback": [
      "\u001b[1;31m---------------------------------------------------------------------------\u001b[0m",
      "\u001b[1;31mNameError\u001b[0m                                 Traceback (most recent call last)",
      "\u001b[1;32m<ipython-input-9-5a16ecf3c590>\u001b[0m in \u001b[0;36m<module>\u001b[1;34m()\u001b[0m\n\u001b[0;32m     69\u001b[0m     \u001b[0mtf\u001b[0m\u001b[1;33m.\u001b[0m\u001b[0mglobal_variables_initializer\u001b[0m\u001b[1;33m(\u001b[0m\u001b[1;33m)\u001b[0m\u001b[1;33m.\u001b[0m\u001b[0mrun\u001b[0m\u001b[1;33m(\u001b[0m\u001b[1;33m)\u001b[0m\u001b[1;33m\u001b[0m\u001b[0m\n\u001b[0;32m     70\u001b[0m \u001b[1;33m\u001b[0m\u001b[0m\n\u001b[1;32m---> 71\u001b[1;33m     validate_feed={x:mnist.validation.images,\n\u001b[0m\u001b[0;32m     72\u001b[0m                   y_:mnist.validation.labels}\n\u001b[0;32m     73\u001b[0m \u001b[1;33m\u001b[0m\u001b[0m\n",
      "\u001b[1;31mNameError\u001b[0m: name 'x' is not defined"
     ]
    }
   ],
   "source": [
    "import tensorflow as tf\n",
    "from tensorflow.examples.tutorials.mnist import input_data\n",
    "\n",
    "INPUT_Node=784\n",
    "Output_Node=10\n",
    "\n",
    "Layer1_Node=500\n",
    "\n",
    "Batch_Size=100\n",
    "\n",
    "Learning_Rate_Base=0.8\n",
    "Learning_Rate_Decay=0.99\n",
    "Regulartion_Rate=0.0001\n",
    "Training_Steps=3000\n",
    "Moving_Average_Decay=0.99\n",
    "def inference(input_tensor,avg_class,weights1,biases1,weights2,biases2):\n",
    "    if avg_class==None:\n",
    "        layer1=tf.nn.relu(tf.matmul(input_tensor,weights1)+biases1)\n",
    "        return tf.matmul(layer1,weights2)+biases2    \n",
    "    else :\n",
    "        layer1=tf.nn.relu(tf.matmul(input_tensor,avg_class.average(weights1))+avg_class.average(biases1))\n",
    "        return tf.matmul(layer1,avg_class.average(weights2))+avg_class.average(biases2        \n",
    "def train(mnist):\n",
    "    x=tf.placeholder(tf.float32,[None,INPUT_Node],name='x-input')\n",
    "    y_=tf.placeholder(tf.float32,[None,Output_Node],name='y-input')   \n",
    "    weights1=tf.Variable(tf.truncated_normal([INPUT_Node,Layer1_Node],stddev=0.1))\n",
    "    biases1=tf.Variable(tf.constant(0.1,shape=[Layer1_Node]))    \n",
    "    weights2=tf.Variable(tf.truncated_normal([Layer1_Node,Output_Node],stddev=0.1))\n",
    "    biases2==tf.Variable(tf.constant(0.1,shape=[Output_Node]))\n",
    "    y=inference(x,None,weights1,biases1,weights2,biases2)\n",
    "    global_step=tf.Variable(0,trainable=False)\n",
    "    variable_averages=tf.train.ExponentialMovingAverage(Moving_Average_Decay,global_step)\n",
    "    variable_average_op=variable_averages.apply(tf.trainable_variables())\n",
    "    average_y=inference(x,variable_averages,weights1,biases1,weights2,biases2)\n",
    "    cross_entry=tf.nn.sparse_softmax_cross_entropy_with_logits(logits=y,labels=tf.arg_max(y_,1))\n",
    "    cross_entry_mean=tf.reduce_mean(cross_entry)\n",
    "    regularizer=tf.contrib.layers.l2_regularizer(Regulartion_Rate)\n",
    "    regularization=regularizer(weights1)+regularizer(weights2)\n",
    "    loss=cross_entry_mean+regularization\n",
    "    learning_rate=tf.train.exponential_decay(Learning_Rate_Base,global_step,mnist.train.num_examples/Batch_Size,Learning_Rate_Decay)\n",
    "    train_step=tf.train.GradientDescentOptimizer(learning_rate).inimize(loss,global_step=global_step)\n",
    "    with tf.control_dependencies([train_step,variable_average_op]):\n",
    "        train_op=tf.no(name='train')\n",
    "    correct_predition=tf.equal(tf.arg_max(average_y,1),tf.ar/(y_,1))\n",
    "    accuracy=tf.reduce_mean(tf.cast(correct_predition,tf.float32))\n",
    "with tf.Session() as sess:\n",
    "    tf.global_variables_initializer().run()    \n",
    "    validate_feed={x:mnist.validation.images,\n",
    "                  y_:mnist.validation.labels}    \n",
    "    test_feed={x:mnist.test.images,y_:mnist.test.labels}   \n",
    "    for i in range(Training_Steps):\n",
    "        if i%1000==0:\n",
    "            validate_acc=sess.run(accuracy,deed_dict=validate_feed)          \n",
    "            print(\"After %d training steps,validation accuracy\" \"using average model is %g\"%(i,validate_acc))            \n",
    "            xs,ys=mnist.train.next_batch(Batch_Size)\n",
    "            sess.run(train_op,feed_dict={x:xs,y_:ys})            \n",
    "    test_acc=sess.run(accuracy,feed_dict=test_feed)\n",
    "    print(\"After %d training steps,test accuracy using average\" \"model is %g\"%(Training_Steps,test_acc))    \n",
    "def main(argv=None):\n",
    "    mnist=input_data.read_data_sets(\"D:/装机环境\",one_hot=True)\n",
    "    train(mnist)    \n",
    "if _name_=='_main_':\n",
    "    tf.app.run()"
   ]
  },
  {
   "cell_type": "code",
   "execution_count": null,
   "metadata": {
    "collapsed": true
   },
   "outputs": [],
   "source": []
  }
 ],
 "metadata": {
  "kernelspec": {
   "display_name": "Python 3",
   "language": "python",
   "name": "python3"
  },
  "language_info": {
   "codemirror_mode": {
    "name": "ipython",
    "version": 3
   },
   "file_extension": ".py",
   "mimetype": "text/x-python",
   "name": "python",
   "nbconvert_exporter": "python",
   "pygments_lexer": "ipython3",
   "version": "3.5.4"
  }
 },
 "nbformat": 4,
 "nbformat_minor": 2
}
